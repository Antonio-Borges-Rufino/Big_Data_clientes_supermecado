{
  "nbformat": 4,
  "nbformat_minor": 0,
  "metadata": {
    "colab": {
      "provenance": []
    },
    "kernelspec": {
      "name": "python3",
      "display_name": "Python 3"
    },
    "language_info": {
      "name": "python"
    }
  },
  "cells": [
    {
      "cell_type": "code",
      "execution_count": 5,
      "metadata": {
        "id": "RL4WUbEByqcE"
      },
      "outputs": [],
      "source": [
        "import pandas as pd\n",
        "import json"
      ]
    },
    {
      "cell_type": "code",
      "source": [
        "with open(\"/content/clientes.json\", encoding='utf-8') as meu_json:\n",
        "    dados = json.load(meu_json)\n",
        "dados = dados['cliente']\n",
        "df_cliente = pd.DataFrame(dados)\n",
        "df_estados = pd.read_csv(\"/content/estados.csv\",encoding=\"latin-1\")\n",
        "df_produtos = pd.read_csv(\"/content/produtos.csv\")\n",
        "df_compras = pd.read_csv(\"/content/compras.csv\")"
      ],
      "metadata": {
        "id": "g-G4XDu11hXE"
      },
      "execution_count": 77,
      "outputs": []
    },
    {
      "cell_type": "code",
      "source": [
        "print(len(df_compras))\n",
        "df_compras.isna().sum()"
      ],
      "metadata": {
        "colab": {
          "base_uri": "https://localhost:8080/"
        },
        "id": "qgcA5iTw1pWV",
        "outputId": "9d05cd99-8ae7-4011-eb92-124896f301ec"
      },
      "execution_count": 78,
      "outputs": [
        {
          "output_type": "stream",
          "name": "stdout",
          "text": [
            "3000\n"
          ]
        },
        {
          "output_type": "execute_result",
          "data": {
            "text/plain": [
              "cod_cliente            0\n",
              "cod_produto           10\n",
              "qtd_produto            0\n",
              "valor_unitario         5\n",
              "valor_total_compra    21\n",
              "dtype: int64"
            ]
          },
          "metadata": {},
          "execution_count": 78
        }
      ]
    },
    {
      "cell_type": "code",
      "source": [
        "tipos = {'valor_unitario':'float64','valor_total_compra':'float64'}\n",
        "df_compras['valor_unitario'] = df_compras['valor_unitario'].str.replace(',', '.')\n",
        "df_compras['valor_total_compra'] = df_compras['valor_total_compra'].str.replace(',', '.')\n",
        "df_compras = df_compras.astype(tipos)\n",
        "df_compras.loc[df_compras.valor_unitario.isna(),'valor_unitario'] = df_compras.valor_total_compra/df_compras.qtd_produto\n",
        "df_compras.loc[df_compras.valor_total_compra.isna(),'valor_total_compra'] = df_compras.qtd_produto*df_compras.valor_unitario\n",
        "df_compras.dropna(inplace=True)\n",
        "df_compras = df_compras.astype({'cod_produto':'int64'})\n",
        "print(len(df_compras))\n",
        "print(df_compras.isna().sum())"
      ],
      "metadata": {
        "id": "wuPSduw5BZEs"
      },
      "execution_count": null,
      "outputs": []
    },
    {
      "cell_type": "code",
      "source": [
        "df_geral = df_compras.merge(df_produtos,on='cod_produto')\n",
        "df_geral = df_geral.merge(df_cliente, on='cod_cliente')\n",
        "df_estados.rename(columns={'codigo_estado': 'cod_estado'}, inplace = True)\n",
        "df_geral = df_geral.merge(df_estados, on='cod_estado')"
      ],
      "metadata": {
        "id": "fumx_2keFpsq"
      },
      "execution_count": 95,
      "outputs": []
    },
    {
      "cell_type": "code",
      "source": [
        "df_geral.head(2)"
      ],
      "metadata": {
        "colab": {
          "base_uri": "https://localhost:8080/",
          "height": 193
        },
        "id": "R5COupUbHkrL",
        "outputId": "3dd34068-275a-4923-ce4a-47b447d68c1c"
      },
      "execution_count": 96,
      "outputs": [
        {
          "output_type": "execute_result",
          "data": {
            "text/plain": [
              "   cod_cliente  cod_produto  qtd_produto  valor_unitario  valor_total_compra  \\\n",
              "0            1         1011            3            5.99               17.97   \n",
              "1         1973         1049            3            5.99               17.97   \n",
              "\n",
              "    nome_produto  cod_classe_produto       classe_produto valor  sexo  idade  \\\n",
              "0  Lustra móveis                   1  Produtos de Limpeza  5,99     1     26   \n",
              "1    Leite em pó                   3          Alimentação  5,99     1     36   \n",
              "\n",
              "   qtd_filhos  estado_civil  cod_estado  hipertenso  diabetes   nome_estado  \\\n",
              "0           2             3          13           0         1  Minas Gerais   \n",
              "1           1             1          13           0         1  Minas Gerais   \n",
              "\n",
              "  sgl_estado  \n",
              "0         MG  \n",
              "1         MG  "
            ],
            "text/html": [
              "\n",
              "  <div id=\"df-bb425900-c49e-4c6a-9103-01adec582e2e\">\n",
              "    <div class=\"colab-df-container\">\n",
              "      <div>\n",
              "<style scoped>\n",
              "    .dataframe tbody tr th:only-of-type {\n",
              "        vertical-align: middle;\n",
              "    }\n",
              "\n",
              "    .dataframe tbody tr th {\n",
              "        vertical-align: top;\n",
              "    }\n",
              "\n",
              "    .dataframe thead th {\n",
              "        text-align: right;\n",
              "    }\n",
              "</style>\n",
              "<table border=\"1\" class=\"dataframe\">\n",
              "  <thead>\n",
              "    <tr style=\"text-align: right;\">\n",
              "      <th></th>\n",
              "      <th>cod_cliente</th>\n",
              "      <th>cod_produto</th>\n",
              "      <th>qtd_produto</th>\n",
              "      <th>valor_unitario</th>\n",
              "      <th>valor_total_compra</th>\n",
              "      <th>nome_produto</th>\n",
              "      <th>cod_classe_produto</th>\n",
              "      <th>classe_produto</th>\n",
              "      <th>valor</th>\n",
              "      <th>sexo</th>\n",
              "      <th>idade</th>\n",
              "      <th>qtd_filhos</th>\n",
              "      <th>estado_civil</th>\n",
              "      <th>cod_estado</th>\n",
              "      <th>hipertenso</th>\n",
              "      <th>diabetes</th>\n",
              "      <th>nome_estado</th>\n",
              "      <th>sgl_estado</th>\n",
              "    </tr>\n",
              "  </thead>\n",
              "  <tbody>\n",
              "    <tr>\n",
              "      <th>0</th>\n",
              "      <td>1</td>\n",
              "      <td>1011</td>\n",
              "      <td>3</td>\n",
              "      <td>5.99</td>\n",
              "      <td>17.97</td>\n",
              "      <td>Lustra móveis</td>\n",
              "      <td>1</td>\n",
              "      <td>Produtos de Limpeza</td>\n",
              "      <td>5,99</td>\n",
              "      <td>1</td>\n",
              "      <td>26</td>\n",
              "      <td>2</td>\n",
              "      <td>3</td>\n",
              "      <td>13</td>\n",
              "      <td>0</td>\n",
              "      <td>1</td>\n",
              "      <td>Minas Gerais</td>\n",
              "      <td>MG</td>\n",
              "    </tr>\n",
              "    <tr>\n",
              "      <th>1</th>\n",
              "      <td>1973</td>\n",
              "      <td>1049</td>\n",
              "      <td>3</td>\n",
              "      <td>5.99</td>\n",
              "      <td>17.97</td>\n",
              "      <td>Leite em pó</td>\n",
              "      <td>3</td>\n",
              "      <td>Alimentação</td>\n",
              "      <td>5,99</td>\n",
              "      <td>1</td>\n",
              "      <td>36</td>\n",
              "      <td>1</td>\n",
              "      <td>1</td>\n",
              "      <td>13</td>\n",
              "      <td>0</td>\n",
              "      <td>1</td>\n",
              "      <td>Minas Gerais</td>\n",
              "      <td>MG</td>\n",
              "    </tr>\n",
              "  </tbody>\n",
              "</table>\n",
              "</div>\n",
              "      <button class=\"colab-df-convert\" onclick=\"convertToInteractive('df-bb425900-c49e-4c6a-9103-01adec582e2e')\"\n",
              "              title=\"Convert this dataframe to an interactive table.\"\n",
              "              style=\"display:none;\">\n",
              "        \n",
              "  <svg xmlns=\"http://www.w3.org/2000/svg\" height=\"24px\"viewBox=\"0 0 24 24\"\n",
              "       width=\"24px\">\n",
              "    <path d=\"M0 0h24v24H0V0z\" fill=\"none\"/>\n",
              "    <path d=\"M18.56 5.44l.94 2.06.94-2.06 2.06-.94-2.06-.94-.94-2.06-.94 2.06-2.06.94zm-11 1L8.5 8.5l.94-2.06 2.06-.94-2.06-.94L8.5 2.5l-.94 2.06-2.06.94zm10 10l.94 2.06.94-2.06 2.06-.94-2.06-.94-.94-2.06-.94 2.06-2.06.94z\"/><path d=\"M17.41 7.96l-1.37-1.37c-.4-.4-.92-.59-1.43-.59-.52 0-1.04.2-1.43.59L10.3 9.45l-7.72 7.72c-.78.78-.78 2.05 0 2.83L4 21.41c.39.39.9.59 1.41.59.51 0 1.02-.2 1.41-.59l7.78-7.78 2.81-2.81c.8-.78.8-2.07 0-2.86zM5.41 20L4 18.59l7.72-7.72 1.47 1.35L5.41 20z\"/>\n",
              "  </svg>\n",
              "      </button>\n",
              "      \n",
              "  <style>\n",
              "    .colab-df-container {\n",
              "      display:flex;\n",
              "      flex-wrap:wrap;\n",
              "      gap: 12px;\n",
              "    }\n",
              "\n",
              "    .colab-df-convert {\n",
              "      background-color: #E8F0FE;\n",
              "      border: none;\n",
              "      border-radius: 50%;\n",
              "      cursor: pointer;\n",
              "      display: none;\n",
              "      fill: #1967D2;\n",
              "      height: 32px;\n",
              "      padding: 0 0 0 0;\n",
              "      width: 32px;\n",
              "    }\n",
              "\n",
              "    .colab-df-convert:hover {\n",
              "      background-color: #E2EBFA;\n",
              "      box-shadow: 0px 1px 2px rgba(60, 64, 67, 0.3), 0px 1px 3px 1px rgba(60, 64, 67, 0.15);\n",
              "      fill: #174EA6;\n",
              "    }\n",
              "\n",
              "    [theme=dark] .colab-df-convert {\n",
              "      background-color: #3B4455;\n",
              "      fill: #D2E3FC;\n",
              "    }\n",
              "\n",
              "    [theme=dark] .colab-df-convert:hover {\n",
              "      background-color: #434B5C;\n",
              "      box-shadow: 0px 1px 3px 1px rgba(0, 0, 0, 0.15);\n",
              "      filter: drop-shadow(0px 1px 2px rgba(0, 0, 0, 0.3));\n",
              "      fill: #FFFFFF;\n",
              "    }\n",
              "  </style>\n",
              "\n",
              "      <script>\n",
              "        const buttonEl =\n",
              "          document.querySelector('#df-bb425900-c49e-4c6a-9103-01adec582e2e button.colab-df-convert');\n",
              "        buttonEl.style.display =\n",
              "          google.colab.kernel.accessAllowed ? 'block' : 'none';\n",
              "\n",
              "        async function convertToInteractive(key) {\n",
              "          const element = document.querySelector('#df-bb425900-c49e-4c6a-9103-01adec582e2e');\n",
              "          const dataTable =\n",
              "            await google.colab.kernel.invokeFunction('convertToInteractive',\n",
              "                                                     [key], {});\n",
              "          if (!dataTable) return;\n",
              "\n",
              "          const docLinkHtml = 'Like what you see? Visit the ' +\n",
              "            '<a target=\"_blank\" href=https://colab.research.google.com/notebooks/data_table.ipynb>data table notebook</a>'\n",
              "            + ' to learn more about interactive tables.';\n",
              "          element.innerHTML = '';\n",
              "          dataTable['output_type'] = 'display_data';\n",
              "          await google.colab.output.renderOutput(dataTable, element);\n",
              "          const docLink = document.createElement('div');\n",
              "          docLink.innerHTML = docLinkHtml;\n",
              "          element.appendChild(docLink);\n",
              "        }\n",
              "      </script>\n",
              "    </div>\n",
              "  </div>\n",
              "  "
            ]
          },
          "metadata": {},
          "execution_count": 96
        }
      ]
    },
    {
      "cell_type": "code",
      "source": [
        "df_geral.drop_duplicates(inplace=True)\n",
        "df_geral.drop(columns='valor',inplace=True)\n"
      ],
      "metadata": {
        "id": "NBZgR6xxT845"
      },
      "execution_count": 100,
      "outputs": []
    },
    {
      "cell_type": "code",
      "source": [
        "tipos = {\"cod_cliente\":'codigo_cliente',\n",
        "         \"cod_produto\":'codigo_produto',\n",
        "         \"qtd_produto\":'qtd_produto_compra',\n",
        "         \"valor_unitario\":'valor_produto',\n",
        "         \"valor_total_compra\":'valor_total_compra',\n",
        "         \"nome_produto\":'nome_produto',\n",
        "         \"cod_classe_produto\":'cod_class_produt',\n",
        "         \"classe_produto\":'nome_class_produt',\n",
        "         \"sexo\":'cliente_genero',\n",
        "         \"idade\":'cliente_idade',\n",
        "         \"qtd_filhos\":'cliente_qtd_filhos',\n",
        "         \"estado_civil\":'cliente_estado_civil',\n",
        "         \"cod_estado\":'codigo_estado_cliente',\n",
        "         \"hipertenso\":'cliente_hipertenso',\n",
        "         \"diabetes\":'cliente_diabetes',\n",
        "         \"nome_estado\":'nome_estado_cliente',\n",
        "         \"sgl_estado\":'sigla_estado_cliente',}\n",
        "df_geral.rename(columns=tipos, inplace = True)"
      ],
      "metadata": {
        "id": "YCffkY46Vdpe"
      },
      "execution_count": 102,
      "outputs": []
    },
    {
      "cell_type": "code",
      "source": [
        "df_geral.to_csv(\"inform_unidas.csv\")\n",
        "df_cliente.to_csv(\"clientes_transform.csv\")\n",
        "df_compras.to_csv(\"compras_transform.csv\")\n",
        "df_estados.to_csv(\"estados_transform.csv\")\n",
        "df_produtos.to_csv(\"produtos_transform.csv\")"
      ],
      "metadata": {
        "id": "iH56ybRtW4hC"
      },
      "execution_count": 103,
      "outputs": []
    }
  ]
}